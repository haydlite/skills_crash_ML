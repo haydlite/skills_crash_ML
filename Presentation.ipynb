{
 "cells": [
  {
   "cell_type": "code",
   "execution_count": 7,
   "metadata": {
    "ExecuteTime": {
     "end_time": "2020-06-05T06:50:37.568818Z",
     "start_time": "2020-06-05T06:50:37.391242Z"
    }
   },
   "outputs": [
    {
     "ename": "ModuleNotFoundError",
     "evalue": "No module named 'pandas_profiling'",
     "output_type": "error",
     "traceback": [
      "\u001b[0;31m---------------------------------------------------------------------------\u001b[0m",
      "\u001b[0;31mModuleNotFoundError\u001b[0m                       Traceback (most recent call last)",
      "\u001b[0;32m<ipython-input-7-e2a33329b6f0>\u001b[0m in \u001b[0;36m<module>\u001b[0;34m\u001b[0m\n\u001b[0;32m----> 1\u001b[0;31m \u001b[0;32mfrom\u001b[0m \u001b[0mpandas_profiling\u001b[0m \u001b[0;32mimport\u001b[0m \u001b[0mProfileReport\u001b[0m\u001b[0;34m\u001b[0m\u001b[0;34m\u001b[0m\u001b[0m\n\u001b[0m",
      "\u001b[0;31mModuleNotFoundError\u001b[0m: No module named 'pandas_profiling'"
     ]
    }
   ],
   "source": [
    "from pandas_profiling import ProfileReport"
   ]
  },
  {
   "cell_type": "code",
   "execution_count": 6,
   "metadata": {
    "ExecuteTime": {
     "end_time": "2020-06-05T06:50:37.389164Z",
     "start_time": "2020-06-05T06:49:37.648961Z"
    },
    "slideshow": {
     "slide_type": "skip"
    }
   },
   "outputs": [],
   "source": [
    "seed = 605\n",
    "\n",
    "import pickle\n",
    "import numpy as np\n",
    "import matplotlib.pyplot as plt\n",
    "import pandas as pd\n",
    "\n",
    "from mlxtend.plotting import plot_decision_regions\n",
    "\n",
    "from sklearn import svm, datasets\n",
    "from sklearn.model_selection import train_test_split\n",
    "from sklearn.metrics import plot_confusion_matrix\n",
    "from sklearn.preprocessing import StandardScaler\n",
    "scaler = StandardScaler()\n",
    "\n",
    "def Combine_SkillClusterFamilies(series):\n",
    "    unique_fam = list(series.unique())\n",
    "    if 'na' in unique_fam:\n",
    "        if unique_fam is not ['na']:\n",
    "            unique_fam.remove('na')\n",
    "        return ' '.join(unique_fam)\n",
    "    return ' '.join(unique_fam)\n",
    "\n",
    "def shorten_4_to_2(self):\n",
    "    return str(self)[:2]\n",
    "\n",
    "wdir = '/nfs/turbo/fspp-epi/projects/SkillDemand/'\n",
    "df_skills = pd.read_csv(wdir + 'data_final/Global_Skill_Families/2015/Global_Skill_Families_2015-05.csv')\n",
    "df_certs = pd.read_csv(wdir + 'data_raw/Certs/2015/Certs_2015-05.txt', delimiter='\\t', encoding='latin1')\n",
    "df_main = pd.read_csv(wdir + 'data_raw/Main/2015/Main_2015-05.txt', delimiter='\\t', encoding='latin1')\n",
    "df_majors = pd.read_csv(wdir + 'data_final/Skill_Groups/2015/Skill_Groups_2015-05.csv', usecols=['BGTJobId', 'CIP4'])\n",
    "raw_skills = pd.read_csv(wdir + 'data_raw/Skill/2015/Skills_2015-05.txt', delimiter='\\t', encoding='latin1')\n",
    "\n",
    "df_majors['CIP2'] = df_majors['CIP4'].apply(shorten_4_to_2)\n",
    "\n",
    "features = ['BGTJobId', 'BestFitMSAName', 'CleanTitle', 'Employer', 'Exp',\n",
    "       'SectorName', 'SkillClusterFamily', 'SOCName']\n",
    "features_no_skill = ['BGTJobId', 'BestFitMSAName', 'CleanTitle', 'Employer', 'Exp',\n",
    "       'SectorName', 'SOCName']\n",
    "\n",
    "df = df_main[df_main.Edu==16][features_no_skill]\n",
    "df_sample = df.sample(frac=0.3, random_state=1) # Sample DF or else we're gonna have an error\n",
    "\n",
    "labelled_df_sample = df_sample.merge(df_majors[['BGTJobId', 'CIP2', 'CIP4']], on='BGTJobId')\n",
    "labelled_df_sample = labelled_df_sample.replace(False, 0) # Booleans -> Int\n",
    "labelled_df_w_skills = labelled_df_sample.merge(raw_skills[['BGTJobId','SkillClusterFamily']], on='BGTJobId')\n",
    "labelled_data = labelled_df_w_skills.groupby(['BGTJobId', 'BestFitMSAName', 'CleanTitle', 'Employer', 'Exp',\n",
    "       'SectorName', 'SOCName'])['SkillClusterFamily'].apply(Combine_SkillClusterFamilies).reset_index()"
   ]
  },
  {
   "cell_type": "code",
   "execution_count": null,
   "metadata": {
    "ExecuteTime": {
     "end_time": "2020-06-05T06:50:37.570342Z",
     "start_time": "2020-06-05T06:49:53.379Z"
    },
    "slideshow": {
     "slide_type": "skip"
    }
   },
   "outputs": [],
   "source": [
    "# 70,000 is a lot -- Going to use 5,000 for this workshop"
   ]
  },
  {
   "cell_type": "code",
   "execution_count": null,
   "metadata": {
    "ExecuteTime": {
     "end_time": "2020-06-05T06:50:37.571310Z",
     "start_time": "2020-06-05T06:49:53.701Z"
    },
    "slideshow": {
     "slide_type": "skip"
    }
   },
   "outputs": [],
   "source": [
    "features_df = labelled_data.sample(5000, random_state = seed) # features df has job id, x df doesn't \n",
    "df_labels = features_df.merge(df_majors[['BGTJobId', 'CIP2', 'CIP4']], on='BGTJobId')[['BGTJobId', 'CIP2', 'CIP4']]"
   ]
  },
  {
   "cell_type": "code",
   "execution_count": null,
   "metadata": {
    "ExecuteTime": {
     "end_time": "2020-06-05T06:50:37.572270Z",
     "start_time": "2020-06-05T06:49:54.085Z"
    },
    "slideshow": {
     "slide_type": "skip"
    }
   },
   "outputs": [],
   "source": [
    "y_df = pd.DataFrame()\n",
    "labels_CIP = [['is_business', '52'], ['is_compsci', '11'], \n",
    "              ['is_comms', '9.'], ['is_publicadmin', '44'],\n",
    "['is_business_admin_02', 52.02], ['is_computer_science_07', 11.07], \n",
    "['is_comm_01', 9.01], ['is_social_work', 44.07]]\n",
    "for entry in labels_CIP:\n",
    "    if isinstance(entry[1], float):\n",
    "        y_df[entry[0]] = df_labels.groupby(['BGTJobId']).apply(lambda x: (any(x.CIP4 == entry[1])))\n",
    "    else:\n",
    "        y_df[entry[0]] = df_labels.groupby(['BGTJobId']).apply(lambda x: (any(x.CIP2 == entry[1])))"
   ]
  },
  {
   "cell_type": "code",
   "execution_count": null,
   "metadata": {
    "ExecuteTime": {
     "end_time": "2020-06-05T06:50:37.573231Z",
     "start_time": "2020-06-05T06:49:54.471Z"
    }
   },
   "outputs": [],
   "source": [
    "y_df"
   ]
  },
  {
   "cell_type": "markdown",
   "metadata": {
    "cell_style": "split",
    "slideshow": {
     "slide_type": "slide"
    }
   },
   "source": [
    "# A Haphazard Journey into Machine Learning and Natural Language Processing\n",
    "## \"Motivational Quote Here\""
   ]
  },
  {
   "cell_type": "markdown",
   "metadata": {
    "cell_style": "split",
    "slideshow": {
     "slide_type": "fragment"
    }
   },
   "source": [
    "## Learning Objectives\n",
    "\n",
    "At the end of this tutorial, you will be able to:\n",
    "- Describe machine learning's added value to our project\n",
    "- Outline the basic steps of a machine learning project\n",
    "- Describe and be able to differentiate between supervised and unsupervised learning\n",
    "- Describe how features are extracted from text data\n",
    "- Describe the model validation process"
   ]
  },
  {
   "cell_type": "markdown",
   "metadata": {
    "slideshow": {
     "slide_type": "slide"
    }
   },
   "source": [
    "## Missing Majors Problem"
   ]
  },
  {
   "cell_type": "code",
   "execution_count": 39,
   "metadata": {
    "ExecuteTime": {
     "end_time": "2020-06-05T06:15:30.780194Z",
     "start_time": "2020-06-05T06:15:30.757839Z"
    },
    "slideshow": {
     "slide_type": "fragment"
    }
   },
   "outputs": [
    {
     "data": {
      "text/html": [
       "<div>\n",
       "<style scoped>\n",
       "    .dataframe tbody tr th:only-of-type {\n",
       "        vertical-align: middle;\n",
       "    }\n",
       "\n",
       "    .dataframe tbody tr th {\n",
       "        vertical-align: top;\n",
       "    }\n",
       "\n",
       "    .dataframe thead th {\n",
       "        text-align: right;\n",
       "    }\n",
       "</style>\n",
       "<table border=\"1\" class=\"dataframe\">\n",
       "  <thead>\n",
       "    <tr style=\"text-align: right;\">\n",
       "      <th></th>\n",
       "      <th>BGTJobId</th>\n",
       "      <th>BestFitMSAName</th>\n",
       "      <th>CleanTitle</th>\n",
       "      <th>Employer</th>\n",
       "      <th>Exp</th>\n",
       "      <th>SectorName</th>\n",
       "      <th>SOCName</th>\n",
       "      <th>SkillClusterFamily</th>\n",
       "      <th>is_business</th>\n",
       "      <th>is_compsci</th>\n",
       "      <th>is_comms</th>\n",
       "      <th>is_publicadmin</th>\n",
       "      <th>is_business_admin_02</th>\n",
       "      <th>is_computer_science_07</th>\n",
       "      <th>is_comm_01</th>\n",
       "      <th>is_social_work</th>\n",
       "    </tr>\n",
       "  </thead>\n",
       "  <tbody>\n",
       "    <tr>\n",
       "      <th>0</th>\n",
       "      <td>37904664186</td>\n",
       "      <td>San Francisco-Oakland-Hayward, CA</td>\n",
       "      <td>General Manager, Hockey In</td>\n",
       "      <td>Sportvision</td>\n",
       "      <td>8.0</td>\n",
       "      <td>na</td>\n",
       "      <td>General and Operations Managers</td>\n",
       "      <td>Media and Writing Business Industry Knowledge ...</td>\n",
       "      <td>True</td>\n",
       "      <td>False</td>\n",
       "      <td>False</td>\n",
       "      <td>False</td>\n",
       "      <td>True</td>\n",
       "      <td>False</td>\n",
       "      <td>False</td>\n",
       "      <td>False</td>\n",
       "    </tr>\n",
       "    <tr>\n",
       "      <th>1</th>\n",
       "      <td>37902269463</td>\n",
       "      <td>Provo-Orem, UT</td>\n",
       "      <td>Regional Director, Installation</td>\n",
       "      <td>Vivint, Inc</td>\n",
       "      <td>5.0</td>\n",
       "      <td>Administrative and Support and Waste Managemen...</td>\n",
       "      <td>Sales Managers</td>\n",
       "      <td>Human Resources Education and Training Busines...</td>\n",
       "      <td>True</td>\n",
       "      <td>False</td>\n",
       "      <td>False</td>\n",
       "      <td>False</td>\n",
       "      <td>True</td>\n",
       "      <td>False</td>\n",
       "      <td>False</td>\n",
       "      <td>False</td>\n",
       "    </tr>\n",
       "    <tr>\n",
       "      <th>2</th>\n",
       "      <td>37903093614</td>\n",
       "      <td>Bridgeport-Stamford-Norwalk, CT</td>\n",
       "      <td>Assurance</td>\n",
       "      <td>McGladrey</td>\n",
       "      <td>-999.0</td>\n",
       "      <td>Professional, Scientific, and Technical Services</td>\n",
       "      <td>Accountants and Auditors</td>\n",
       "      <td>Finance</td>\n",
       "      <td>True</td>\n",
       "      <td>False</td>\n",
       "      <td>False</td>\n",
       "      <td>False</td>\n",
       "      <td>False</td>\n",
       "      <td>False</td>\n",
       "      <td>False</td>\n",
       "      <td>False</td>\n",
       "    </tr>\n",
       "    <tr>\n",
       "      <th>3</th>\n",
       "      <td>37895498193</td>\n",
       "      <td>Cleveland-Elyria, OH</td>\n",
       "      <td>Area Manager</td>\n",
       "      <td>XPO Logistics</td>\n",
       "      <td>4.0</td>\n",
       "      <td>Professional, Scientific, and Technical Services</td>\n",
       "      <td>General and Operations Managers</td>\n",
       "      <td>Industry Knowledge Media and Writing Supply Ch...</td>\n",
       "      <td>True</td>\n",
       "      <td>False</td>\n",
       "      <td>False</td>\n",
       "      <td>False</td>\n",
       "      <td>True</td>\n",
       "      <td>False</td>\n",
       "      <td>False</td>\n",
       "      <td>False</td>\n",
       "    </tr>\n",
       "    <tr>\n",
       "      <th>4</th>\n",
       "      <td>37901172920</td>\n",
       "      <td>Austin-Round Rock, TX</td>\n",
       "      <td>Desktop Administrator Reopened</td>\n",
       "      <td>Texas Comptroller Of Public Accounts</td>\n",
       "      <td>4.0</td>\n",
       "      <td>na</td>\n",
       "      <td>Computer User Support Specialists</td>\n",
       "      <td>Information Technology Business Maintenance, R...</td>\n",
       "      <td>False</td>\n",
       "      <td>True</td>\n",
       "      <td>False</td>\n",
       "      <td>False</td>\n",
       "      <td>False</td>\n",
       "      <td>True</td>\n",
       "      <td>False</td>\n",
       "      <td>False</td>\n",
       "    </tr>\n",
       "  </tbody>\n",
       "</table>\n",
       "</div>"
      ],
      "text/plain": [
       "      BGTJobId                     BestFitMSAName  \\\n",
       "0  37904664186  San Francisco-Oakland-Hayward, CA   \n",
       "1  37902269463                     Provo-Orem, UT   \n",
       "2  37903093614    Bridgeport-Stamford-Norwalk, CT   \n",
       "3  37895498193               Cleveland-Elyria, OH   \n",
       "4  37901172920              Austin-Round Rock, TX   \n",
       "\n",
       "                        CleanTitle                              Employer  \\\n",
       "0       General Manager, Hockey In                           Sportvision   \n",
       "1  Regional Director, Installation                           Vivint, Inc   \n",
       "2                        Assurance                             McGladrey   \n",
       "3                     Area Manager                         XPO Logistics   \n",
       "4   Desktop Administrator Reopened  Texas Comptroller Of Public Accounts   \n",
       "\n",
       "     Exp                                         SectorName  \\\n",
       "0    8.0                                                 na   \n",
       "1    5.0  Administrative and Support and Waste Managemen...   \n",
       "2 -999.0   Professional, Scientific, and Technical Services   \n",
       "3    4.0   Professional, Scientific, and Technical Services   \n",
       "4    4.0                                                 na   \n",
       "\n",
       "                             SOCName  \\\n",
       "0    General and Operations Managers   \n",
       "1                     Sales Managers   \n",
       "2           Accountants and Auditors   \n",
       "3    General and Operations Managers   \n",
       "4  Computer User Support Specialists   \n",
       "\n",
       "                                  SkillClusterFamily  is_business  is_compsci  \\\n",
       "0  Media and Writing Business Industry Knowledge ...         True       False   \n",
       "1  Human Resources Education and Training Busines...         True       False   \n",
       "2                                            Finance         True       False   \n",
       "3  Industry Knowledge Media and Writing Supply Ch...         True       False   \n",
       "4  Information Technology Business Maintenance, R...        False        True   \n",
       "\n",
       "   is_comms  is_publicadmin  is_business_admin_02  is_computer_science_07  \\\n",
       "0     False           False                  True                   False   \n",
       "1     False           False                  True                   False   \n",
       "2     False           False                 False                   False   \n",
       "3     False           False                  True                   False   \n",
       "4     False           False                 False                    True   \n",
       "\n",
       "   is_comm_01  is_social_work  \n",
       "0       False           False  \n",
       "1       False           False  \n",
       "2       False           False  \n",
       "3       False           False  \n",
       "4       False           False  "
      ]
     },
     "execution_count": 39,
     "metadata": {},
     "output_type": "execute_result"
    }
   ],
   "source": [
    "overall_df = features_df.merge(y_df, on='BGTJobId')\n",
    "overall_df.head()"
   ]
  },
  {
   "cell_type": "code",
   "execution_count": 45,
   "metadata": {
    "ExecuteTime": {
     "end_time": "2020-06-05T06:16:55.111986Z",
     "start_time": "2020-06-05T06:16:55.099293Z"
    }
   },
   "outputs": [
    {
     "data": {
      "text/html": [
       "<div>\n",
       "<style scoped>\n",
       "    .dataframe tbody tr th:only-of-type {\n",
       "        vertical-align: middle;\n",
       "    }\n",
       "\n",
       "    .dataframe tbody tr th {\n",
       "        vertical-align: top;\n",
       "    }\n",
       "\n",
       "    .dataframe thead th {\n",
       "        text-align: right;\n",
       "    }\n",
       "</style>\n",
       "<table border=\"1\" class=\"dataframe\">\n",
       "  <thead>\n",
       "    <tr style=\"text-align: right;\">\n",
       "      <th></th>\n",
       "      <th>CleanTitle</th>\n",
       "      <th>Employer</th>\n",
       "      <th>SectorName</th>\n",
       "      <th>Exp</th>\n",
       "      <th>SOCName</th>\n",
       "      <th>SkillClusterFamily</th>\n",
       "    </tr>\n",
       "  </thead>\n",
       "  <tbody>\n",
       "    <tr>\n",
       "      <th>4</th>\n",
       "      <td>Desktop Administrator Reopened</td>\n",
       "      <td>Texas Comptroller Of Public Accounts</td>\n",
       "      <td>na</td>\n",
       "      <td>4.0</td>\n",
       "      <td>Computer User Support Specialists</td>\n",
       "      <td>Information Technology Business Maintenance, R...</td>\n",
       "    </tr>\n",
       "    <tr>\n",
       "      <th>8</th>\n",
       "      <td>Principal Engineer</td>\n",
       "      <td>Navteq Corporation</td>\n",
       "      <td>na</td>\n",
       "      <td>8.0</td>\n",
       "      <td>Engineers, All Other</td>\n",
       "      <td>Information Technology Engineering</td>\n",
       "    </tr>\n",
       "    <tr>\n",
       "      <th>9</th>\n",
       "      <td>Senior Lan Administrator - Code Sgnew</td>\n",
       "      <td>Segal Rogerscasey</td>\n",
       "      <td>Professional, Scientific, and Technical Services</td>\n",
       "      <td>5.0</td>\n",
       "      <td>Network and Computer Systems Administrators</td>\n",
       "      <td>Information Technology Health Care Engineering...</td>\n",
       "    </tr>\n",
       "    <tr>\n",
       "      <th>13</th>\n",
       "      <td>Contact Center Software Development Consultant...</td>\n",
       "      <td>Voya Financial</td>\n",
       "      <td>Finance and Insurance</td>\n",
       "      <td>-999.0</td>\n",
       "      <td>Software Developers, Applications</td>\n",
       "      <td>Information Technology Marketing and Public Re...</td>\n",
       "    </tr>\n",
       "    <tr>\n",
       "      <th>15</th>\n",
       "      <td>Business Systems Analyst Mckesson In</td>\n",
       "      <td>McKesson Corporation</td>\n",
       "      <td>Wholesale Trade</td>\n",
       "      <td>8.0</td>\n",
       "      <td>Computer Systems Analysts</td>\n",
       "      <td>Health Care Business Information Technology Hu...</td>\n",
       "    </tr>\n",
       "  </tbody>\n",
       "</table>\n",
       "</div>"
      ],
      "text/plain": [
       "                                           CleanTitle  \\\n",
       "4                      Desktop Administrator Reopened   \n",
       "8                                  Principal Engineer   \n",
       "9               Senior Lan Administrator - Code Sgnew   \n",
       "13  Contact Center Software Development Consultant...   \n",
       "15               Business Systems Analyst Mckesson In   \n",
       "\n",
       "                                Employer  \\\n",
       "4   Texas Comptroller Of Public Accounts   \n",
       "8                     Navteq Corporation   \n",
       "9                      Segal Rogerscasey   \n",
       "13                        Voya Financial   \n",
       "15                  McKesson Corporation   \n",
       "\n",
       "                                          SectorName    Exp  \\\n",
       "4                                                 na    4.0   \n",
       "8                                                 na    8.0   \n",
       "9   Professional, Scientific, and Technical Services    5.0   \n",
       "13                             Finance and Insurance -999.0   \n",
       "15                                   Wholesale Trade    8.0   \n",
       "\n",
       "                                        SOCName  \\\n",
       "4             Computer User Support Specialists   \n",
       "8                          Engineers, All Other   \n",
       "9   Network and Computer Systems Administrators   \n",
       "13            Software Developers, Applications   \n",
       "15                    Computer Systems Analysts   \n",
       "\n",
       "                                   SkillClusterFamily  \n",
       "4   Information Technology Business Maintenance, R...  \n",
       "8                  Information Technology Engineering  \n",
       "9   Information Technology Health Care Engineering...  \n",
       "13  Information Technology Marketing and Public Re...  \n",
       "15  Health Care Business Information Technology Hu...  "
      ]
     },
     "execution_count": 45,
     "metadata": {},
     "output_type": "execute_result"
    }
   ],
   "source": [
    "feat_to_show = ['CleanTitle', 'Employer', 'SectorName', 'Exp', 'SOCName', 'SkillClusterFamily']\n",
    "overall_df[overall_df.is_compsci == True][feat_to_show].head()"
   ]
  },
  {
   "cell_type": "code",
   "execution_count": null,
   "metadata": {},
   "outputs": [],
   "source": [
    "overall_df[overall_df.is_compsci == True][feat_to_show]."
   ]
  },
  {
   "cell_type": "markdown",
   "metadata": {
    "slideshow": {
     "slide_type": "slide"
    }
   },
   "source": [
    "# Brief Overview of an ML Project\n"
   ]
  },
  {
   "cell_type": "code",
   "execution_count": null,
   "metadata": {},
   "outputs": [],
   "source": []
  },
  {
   "cell_type": "code",
   "execution_count": 48,
   "metadata": {
    "ExecuteTime": {
     "end_time": "2020-06-05T06:24:09.919944Z",
     "start_time": "2020-06-05T06:24:09.917987Z"
    },
    "slideshow": {
     "slide_type": "skip"
    }
   },
   "outputs": [],
   "source": [
    "# Taken from _Hands-on Machine Learning with Sci-kit learn_"
   ]
  },
  {
   "cell_type": "markdown",
   "metadata": {
    "ExecuteTime": {
     "end_time": "2020-06-05T06:24:51.903591Z",
     "start_time": "2020-06-05T06:24:51.900643Z"
    },
    "slideshow": {
     "slide_type": "subslide"
    }
   },
   "source": [
    "## Defining the problem\n",
    "\n",
    "- Defining end goals\n",
    "- Checking assumptions\n",
    "- Selecting performance measures"
   ]
  },
  {
   "cell_type": "markdown",
   "metadata": {
    "ExecuteTime": {
     "end_time": "2020-06-05T06:26:40.526281Z",
     "start_time": "2020-06-05T06:26:40.521316Z"
    },
    "slideshow": {
     "slide_type": "subslide"
    }
   },
   "source": [
    "## Exploratory Analysis\n",
    "\n",
    "- Have a look at data structure\n",
    "- Visualize data\n",
    "- Look for correlations"
   ]
  },
  {
   "cell_type": "markdown",
   "metadata": {
    "ExecuteTime": {
     "end_time": "2020-06-05T06:28:34.577509Z",
     "start_time": "2020-06-05T06:28:34.575570Z"
    },
    "slideshow": {
     "slide_type": "subslide"
    }
   },
   "source": [
    "## Preparing the data for ML\n",
    "\n",
    "- Data cleaning\n",
    "- Handling text and categorical variables\n",
    "- Feature scaling (standardize feature units)"
   ]
  },
  {
   "cell_type": "markdown",
   "metadata": {
    "slideshow": {
     "slide_type": "subslide"
    }
   },
   "source": [
    "## Training and selecting a model\n",
    "- Training and evaluating on the training set\n",
    "- Evaluating using cross-validation\n",
    "- Analyzing best models and their errors"
   ]
  },
  {
   "cell_type": "markdown",
   "metadata": {
    "slideshow": {
     "slide_type": "subslide"
    }
   },
   "source": [
    "## Fine-tuning the model\n",
    "- Grid/randomized search\n",
    "- Ensemble methods"
   ]
  },
  {
   "cell_type": "markdown",
   "metadata": {
    "slideshow": {
     "slide_type": "slide"
    }
   },
   "source": [
    "# Baseline Classification Methods"
   ]
  },
  {
   "cell_type": "code",
   "execution_count": null,
   "metadata": {
    "slideshow": {
     "slide_type": "notes"
    }
   },
   "outputs": [],
   "source": [
    "For each, discuss: \n",
    "What is the intuition? / What is the algorithm?\n",
    "What is it good for?\n",
    "How does it perform on our data?"
   ]
  },
  {
   "cell_type": "code",
   "execution_count": null,
   "metadata": {
    "slideshow": {
     "slide_type": "subslide"
    }
   },
   "outputs": [],
   "source": [
    "## Logistic Regression\n",
    "\n"
   ]
  },
  {
   "cell_type": "code",
   "execution_count": null,
   "metadata": {},
   "outputs": [],
   "source": [
    "Support Vector Machine"
   ]
  },
  {
   "cell_type": "code",
   "execution_count": null,
   "metadata": {},
   "outputs": [],
   "source": [
    "K-Nearest Neighbors"
   ]
  },
  {
   "cell_type": "code",
   "execution_count": null,
   "metadata": {},
   "outputs": [],
   "source": [
    "Decision Trees"
   ]
  },
  {
   "cell_type": "markdown",
   "metadata": {},
   "source": [
    "Quick break"
   ]
  },
  {
   "cell_type": "code",
   "execution_count": null,
   "metadata": {},
   "outputs": [],
   "source": [
    "Review:"
   ]
  },
  {
   "cell_type": "markdown",
   "metadata": {
    "slideshow": {
     "slide_type": "slide"
    }
   },
   "source": [
    "# Ensemble Learning\n",
    "_Cheesy quote here about many dumb learners are better than one smart one_"
   ]
  },
  {
   "cell_type": "code",
   "execution_count": null,
   "metadata": {},
   "outputs": [],
   "source": [
    "Intuiion\n",
    "What is it good for?\n",
    "How does it perform?"
   ]
  },
  {
   "cell_type": "code",
   "execution_count": 4,
   "metadata": {},
   "outputs": [],
   "source": [
    "Bagging"
   ]
  },
  {
   "cell_type": "code",
   "execution_count": 5,
   "metadata": {},
   "outputs": [
    {
     "ename": "SyntaxError",
     "evalue": "invalid syntax (<ipython-input-5-5e2c66354edb>, line 1)",
     "output_type": "error",
     "traceback": [
      "\u001b[0;36m  File \u001b[0;32m\"<ipython-input-5-5e2c66354edb>\"\u001b[0;36m, line \u001b[0;32m1\u001b[0m\n\u001b[0;31m    K-Nearest Neighbors\u001b[0m\n\u001b[0m                      ^\u001b[0m\n\u001b[0;31mSyntaxError\u001b[0m\u001b[0;31m:\u001b[0m invalid syntax\n"
     ]
    }
   ],
   "source": [
    "Boosting"
   ]
  },
  {
   "cell_type": "markdown",
   "metadata": {},
   "source": [
    "Model selection\n",
    "http://ml-ensemble.com/info/tutorials/start.html#model-selection-guide"
   ]
  },
  {
   "cell_type": "code",
   "execution_count": null,
   "metadata": {
    "slideshow": {
     "slide_type": "slide"
    }
   },
   "outputs": [],
   "source": [
    "Our Data"
   ]
  },
  {
   "cell_type": "code",
   "execution_count": null,
   "metadata": {},
   "outputs": [],
   "source": []
  },
  {
   "cell_type": "markdown",
   "metadata": {},
   "source": [
    "# Representing text as numbers"
   ]
  },
  {
   "cell_type": "code",
   "execution_count": null,
   "metadata": {},
   "outputs": [],
   "source": []
  },
  {
   "cell_type": "code",
   "execution_count": null,
   "metadata": {},
   "outputs": [],
   "source": []
  },
  {
   "cell_type": "markdown",
   "metadata": {},
   "source": [
    "# Evaluation Metrics\n",
    "_How do we know our classifier is good enough?_"
   ]
  },
  {
   "cell_type": "code",
   "execution_count": null,
   "metadata": {},
   "outputs": [],
   "source": []
  },
  {
   "cell_type": "code",
   "execution_count": null,
   "metadata": {},
   "outputs": [],
   "source": []
  },
  {
   "cell_type": "code",
   "execution_count": null,
   "metadata": {},
   "outputs": [],
   "source": []
  },
  {
   "cell_type": "code",
   "execution_count": null,
   "metadata": {},
   "outputs": [],
   "source": []
  },
  {
   "cell_type": "code",
   "execution_count": null,
   "metadata": {},
   "outputs": [],
   "source": []
  }
 ],
 "metadata": {
  "celltoolbar": "Slideshow",
  "kernelspec": {
   "display_name": "Python 3",
   "language": "python",
   "name": "python3"
  },
  "language_info": {
   "codemirror_mode": {
    "name": "ipython",
    "version": 3
   },
   "file_extension": ".py",
   "mimetype": "text/x-python",
   "name": "python",
   "nbconvert_exporter": "python",
   "pygments_lexer": "ipython3",
   "version": "3.8.1"
  }
 },
 "nbformat": 4,
 "nbformat_minor": 4
}
